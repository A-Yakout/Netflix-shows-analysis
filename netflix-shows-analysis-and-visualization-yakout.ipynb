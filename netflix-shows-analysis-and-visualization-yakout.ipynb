{
 "cells": [
  {
   "cell_type": "code",
   "execution_count": 1,
   "id": "30c7971b",
   "metadata": {
    "_cell_guid": "b1076dfc-b9ad-4769-8c92-a6c4dae69d19",
    "_uuid": "8f2839f25d086af736a60e9eeb907d3b93b6e0e5",
    "execution": {
     "iopub.execute_input": "2024-10-23T05:19:29.507399Z",
     "iopub.status.busy": "2024-10-23T05:19:29.506400Z",
     "iopub.status.idle": "2024-10-23T05:19:32.066265Z",
     "shell.execute_reply": "2024-10-23T05:19:32.065172Z"
    },
    "papermill": {
     "duration": 2.571304,
     "end_time": "2024-10-23T05:19:32.068797",
     "exception": false,
     "start_time": "2024-10-23T05:19:29.497493",
     "status": "completed"
    },
    "tags": []
   },
   "outputs": [],
   "source": [
    "#Let's import the libraries and the data set we are going to use \n",
    "import pandas as pd \n",
    "import numpy as np\n",
    "import matplotlib.pyplot  as plt \n",
    "import seaborn as sns\n",
    "nx_data = pd.read_csv('/kaggle/input/netflix-shows/netflix_titles.csv')"
   ]
  },
  {
   "cell_type": "markdown",
   "id": "41eefb65",
   "metadata": {
    "papermill": {
     "duration": 0.006761,
     "end_time": "2024-10-23T05:19:32.082794",
     "exception": false,
     "start_time": "2024-10-23T05:19:32.076033",
     "status": "completed"
    },
    "tags": []
   },
   "source": [
    "# Exploring the Data # "
   ]
  },
  {
   "cell_type": "code",
   "execution_count": 2,
   "id": "cbfaae2e",
   "metadata": {
    "execution": {
     "iopub.execute_input": "2024-10-23T05:19:32.098126Z",
     "iopub.status.busy": "2024-10-23T05:19:32.097737Z",
     "iopub.status.idle": "2024-10-23T05:19:32.105121Z",
     "shell.execute_reply": "2024-10-23T05:19:32.104168Z"
    },
    "papermill": {
     "duration": 0.01766,
     "end_time": "2024-10-23T05:19:32.107267",
     "exception": false,
     "start_time": "2024-10-23T05:19:32.089607",
     "status": "completed"
    },
    "tags": []
   },
   "outputs": [
    {
     "data": {
      "text/plain": [
       "(8807, 12)"
      ]
     },
     "execution_count": 2,
     "metadata": {},
     "output_type": "execute_result"
    }
   ],
   "source": [
    "#How many records and columns do we have?\n",
    "nx_data.shape"
   ]
  },
  {
   "cell_type": "code",
   "execution_count": 3,
   "id": "63e8b717",
   "metadata": {
    "execution": {
     "iopub.execute_input": "2024-10-23T05:19:32.122868Z",
     "iopub.status.busy": "2024-10-23T05:19:32.122190Z",
     "iopub.status.idle": "2024-10-23T05:19:32.166941Z",
     "shell.execute_reply": "2024-10-23T05:19:32.165681Z"
    },
    "papermill": {
     "duration": 0.054922,
     "end_time": "2024-10-23T05:19:32.169242",
     "exception": false,
     "start_time": "2024-10-23T05:19:32.114320",
     "status": "completed"
    },
    "tags": []
   },
   "outputs": [
    {
     "name": "stdout",
     "output_type": "stream",
     "text": [
      "<class 'pandas.core.frame.DataFrame'>\n",
      "RangeIndex: 8807 entries, 0 to 8806\n",
      "Data columns (total 12 columns):\n",
      " #   Column        Non-Null Count  Dtype \n",
      "---  ------        --------------  ----- \n",
      " 0   show_id       8807 non-null   object\n",
      " 1   type          8807 non-null   object\n",
      " 2   title         8807 non-null   object\n",
      " 3   director      6173 non-null   object\n",
      " 4   cast          7982 non-null   object\n",
      " 5   country       7976 non-null   object\n",
      " 6   date_added    8797 non-null   object\n",
      " 7   release_year  8807 non-null   int64 \n",
      " 8   rating        8803 non-null   object\n",
      " 9   duration      8804 non-null   object\n",
      " 10  listed_in     8807 non-null   object\n",
      " 11  description   8807 non-null   object\n",
      "dtypes: int64(1), object(11)\n",
      "memory usage: 825.8+ KB\n"
     ]
    }
   ],
   "source": [
    "#The data type of each column and other important info\n",
    "nx_data.info()"
   ]
  },
  {
   "cell_type": "code",
   "execution_count": 4,
   "id": "83ec4f6e",
   "metadata": {
    "execution": {
     "iopub.execute_input": "2024-10-23T05:19:32.184888Z",
     "iopub.status.busy": "2024-10-23T05:19:32.184567Z",
     "iopub.status.idle": "2024-10-23T05:19:32.205990Z",
     "shell.execute_reply": "2024-10-23T05:19:32.205145Z"
    },
    "papermill": {
     "duration": 0.03147,
     "end_time": "2024-10-23T05:19:32.208310",
     "exception": false,
     "start_time": "2024-10-23T05:19:32.176840",
     "status": "completed"
    },
    "tags": []
   },
   "outputs": [
    {
     "data": {
      "text/html": [
       "<div>\n",
       "<style scoped>\n",
       "    .dataframe tbody tr th:only-of-type {\n",
       "        vertical-align: middle;\n",
       "    }\n",
       "\n",
       "    .dataframe tbody tr th {\n",
       "        vertical-align: top;\n",
       "    }\n",
       "\n",
       "    .dataframe thead th {\n",
       "        text-align: right;\n",
       "    }\n",
       "</style>\n",
       "<table border=\"1\" class=\"dataframe\">\n",
       "  <thead>\n",
       "    <tr style=\"text-align: right;\">\n",
       "      <th></th>\n",
       "      <th>show_id</th>\n",
       "      <th>type</th>\n",
       "      <th>title</th>\n",
       "      <th>director</th>\n",
       "      <th>cast</th>\n",
       "      <th>country</th>\n",
       "      <th>date_added</th>\n",
       "      <th>release_year</th>\n",
       "      <th>rating</th>\n",
       "      <th>duration</th>\n",
       "      <th>listed_in</th>\n",
       "      <th>description</th>\n",
       "    </tr>\n",
       "  </thead>\n",
       "  <tbody>\n",
       "    <tr>\n",
       "      <th>8083</th>\n",
       "      <td>s8084</td>\n",
       "      <td>TV Show</td>\n",
       "      <td>Star-Crossed</td>\n",
       "      <td>NaN</td>\n",
       "      <td>Aimee Teegarden, Matt Lanter, Grey Damon, Male...</td>\n",
       "      <td>United States</td>\n",
       "      <td>April 16, 2015</td>\n",
       "      <td>2014</td>\n",
       "      <td>TV-14</td>\n",
       "      <td>1 Season</td>\n",
       "      <td>Romantic TV Shows, TV Dramas, TV Sci-Fi &amp; Fantasy</td>\n",
       "      <td>The passionate love between an alien boy and a...</td>\n",
       "    </tr>\n",
       "    <tr>\n",
       "      <th>2031</th>\n",
       "      <td>s2032</td>\n",
       "      <td>Movie</td>\n",
       "      <td>Cuties</td>\n",
       "      <td>Maïmouna Doucouré</td>\n",
       "      <td>Fathia Youssouf, Médina El Aidi-Azouni, Esther...</td>\n",
       "      <td>France</td>\n",
       "      <td>September 9, 2020</td>\n",
       "      <td>2020</td>\n",
       "      <td>TV-MA</td>\n",
       "      <td>96 min</td>\n",
       "      <td>Dramas, International Movies</td>\n",
       "      <td>Eleven-year-old Amy starts to rebel against he...</td>\n",
       "    </tr>\n",
       "    <tr>\n",
       "      <th>5751</th>\n",
       "      <td>s5752</td>\n",
       "      <td>TV Show</td>\n",
       "      <td>DEATH NOTE</td>\n",
       "      <td>NaN</td>\n",
       "      <td>Kappei Yamaguchi, Alessandro Juliani, Mamoru M...</td>\n",
       "      <td>Japan</td>\n",
       "      <td>October 15, 2016</td>\n",
       "      <td>2006</td>\n",
       "      <td>TV-14</td>\n",
       "      <td>1 Season</td>\n",
       "      <td>Anime Series, Crime TV Shows, International TV...</td>\n",
       "      <td>When a Japanese high schooler comes into posse...</td>\n",
       "    </tr>\n",
       "    <tr>\n",
       "      <th>6120</th>\n",
       "      <td>s6121</td>\n",
       "      <td>Movie</td>\n",
       "      <td>All the Boys Love Mandy Lane</td>\n",
       "      <td>Jonathan Levine</td>\n",
       "      <td>Anson Mount, Edwin Hodge, Michael Welch, Brook...</td>\n",
       "      <td>United States</td>\n",
       "      <td>July 3, 2018</td>\n",
       "      <td>2006</td>\n",
       "      <td>R</td>\n",
       "      <td>91 min</td>\n",
       "      <td>Horror Movies</td>\n",
       "      <td>During a weekend excursion to a secluded ranch...</td>\n",
       "    </tr>\n",
       "    <tr>\n",
       "      <th>334</th>\n",
       "      <td>s335</td>\n",
       "      <td>Movie</td>\n",
       "      <td>Five Feet Apart</td>\n",
       "      <td>Justin Baldoni</td>\n",
       "      <td>Haley Lu Richardson, Cole Sprouse, Moisés Aria...</td>\n",
       "      <td>United States</td>\n",
       "      <td>August 1, 2021</td>\n",
       "      <td>2019</td>\n",
       "      <td>PG-13</td>\n",
       "      <td>116 min</td>\n",
       "      <td>Dramas, Romantic Movies</td>\n",
       "      <td>A teen with cystic fibrosis shakes up her dail...</td>\n",
       "    </tr>\n",
       "  </tbody>\n",
       "</table>\n",
       "</div>"
      ],
      "text/plain": [
       "     show_id     type                         title           director  \\\n",
       "8083   s8084  TV Show                  Star-Crossed                NaN   \n",
       "2031   s2032    Movie                        Cuties  Maïmouna Doucouré   \n",
       "5751   s5752  TV Show                    DEATH NOTE                NaN   \n",
       "6120   s6121    Movie  All the Boys Love Mandy Lane    Jonathan Levine   \n",
       "334     s335    Movie               Five Feet Apart     Justin Baldoni   \n",
       "\n",
       "                                                   cast        country  \\\n",
       "8083  Aimee Teegarden, Matt Lanter, Grey Damon, Male...  United States   \n",
       "2031  Fathia Youssouf, Médina El Aidi-Azouni, Esther...         France   \n",
       "5751  Kappei Yamaguchi, Alessandro Juliani, Mamoru M...          Japan   \n",
       "6120  Anson Mount, Edwin Hodge, Michael Welch, Brook...  United States   \n",
       "334   Haley Lu Richardson, Cole Sprouse, Moisés Aria...  United States   \n",
       "\n",
       "             date_added  release_year rating  duration  \\\n",
       "8083     April 16, 2015          2014  TV-14  1 Season   \n",
       "2031  September 9, 2020          2020  TV-MA    96 min   \n",
       "5751   October 15, 2016          2006  TV-14  1 Season   \n",
       "6120       July 3, 2018          2006      R    91 min   \n",
       "334      August 1, 2021          2019  PG-13   116 min   \n",
       "\n",
       "                                              listed_in  \\\n",
       "8083  Romantic TV Shows, TV Dramas, TV Sci-Fi & Fantasy   \n",
       "2031                       Dramas, International Movies   \n",
       "5751  Anime Series, Crime TV Shows, International TV...   \n",
       "6120                                      Horror Movies   \n",
       "334                             Dramas, Romantic Movies   \n",
       "\n",
       "                                            description  \n",
       "8083  The passionate love between an alien boy and a...  \n",
       "2031  Eleven-year-old Amy starts to rebel against he...  \n",
       "5751  When a Japanese high schooler comes into posse...  \n",
       "6120  During a weekend excursion to a secluded ranch...  \n",
       "334   A teen with cystic fibrosis shakes up her dail...  "
      ]
     },
     "execution_count": 4,
     "metadata": {},
     "output_type": "execute_result"
    }
   ],
   "source": [
    "#Showing a sample of different records in the data set \n",
    "nx_data.sample(5)"
   ]
  },
  {
   "cell_type": "markdown",
   "id": "50e47065",
   "metadata": {
    "papermill": {
     "duration": 0.007908,
     "end_time": "2024-10-23T05:19:32.224011",
     "exception": false,
     "start_time": "2024-10-23T05:19:32.216103",
     "status": "completed"
    },
    "tags": []
   },
   "source": [
    "--> looks like we have alot of NaN values"
   ]
  },
  {
   "cell_type": "markdown",
   "id": "d6ee4ba1",
   "metadata": {
    "papermill": {
     "duration": 0.006903,
     "end_time": "2024-10-23T05:19:32.238260",
     "exception": false,
     "start_time": "2024-10-23T05:19:32.231357",
     "status": "completed"
    },
    "tags": []
   },
   "source": [
    "# So let's Clean the Data # "
   ]
  },
  {
   "cell_type": "code",
   "execution_count": 5,
   "id": "d30484d5",
   "metadata": {
    "execution": {
     "iopub.execute_input": "2024-10-23T05:19:32.254015Z",
     "iopub.status.busy": "2024-10-23T05:19:32.253664Z",
     "iopub.status.idle": "2024-10-23T05:19:32.283271Z",
     "shell.execute_reply": "2024-10-23T05:19:32.282318Z"
    },
    "papermill": {
     "duration": 0.040168,
     "end_time": "2024-10-23T05:19:32.285454",
     "exception": false,
     "start_time": "2024-10-23T05:19:32.245286",
     "status": "completed"
    },
    "tags": []
   },
   "outputs": [
    {
     "data": {
      "text/plain": [
       "show_id         8807\n",
       "type               2\n",
       "title           8807\n",
       "director        4528\n",
       "cast            7692\n",
       "country          748\n",
       "date_added      1767\n",
       "release_year      74\n",
       "rating            17\n",
       "duration         220\n",
       "listed_in        514\n",
       "description     8775\n",
       "dtype: int64"
      ]
     },
     "execution_count": 5,
     "metadata": {},
     "output_type": "execute_result"
    }
   ],
   "source": [
    "#See if there is any dublicates in the title column specificly\n",
    "nx_data.nunique()"
   ]
  },
  {
   "cell_type": "code",
   "execution_count": 6,
   "id": "3919d2e1",
   "metadata": {
    "execution": {
     "iopub.execute_input": "2024-10-23T05:19:32.301510Z",
     "iopub.status.busy": "2024-10-23T05:19:32.301113Z",
     "iopub.status.idle": "2024-10-23T05:19:32.321201Z",
     "shell.execute_reply": "2024-10-23T05:19:32.320135Z"
    },
    "papermill": {
     "duration": 0.03051,
     "end_time": "2024-10-23T05:19:32.323406",
     "exception": false,
     "start_time": "2024-10-23T05:19:32.292896",
     "status": "completed"
    },
    "tags": []
   },
   "outputs": [
    {
     "data": {
      "text/plain": [
       "show_id            0\n",
       "type               0\n",
       "title              0\n",
       "director        2634\n",
       "cast             825\n",
       "country          831\n",
       "date_added        10\n",
       "release_year       0\n",
       "rating             4\n",
       "duration           3\n",
       "listed_in          0\n",
       "description        0\n",
       "dtype: int64"
      ]
     },
     "execution_count": 6,
     "metadata": {},
     "output_type": "execute_result"
    }
   ],
   "source": [
    "#To know how many nan value in each column\n",
    "nx_data.isna().sum()"
   ]
  },
  {
   "cell_type": "code",
   "execution_count": 7,
   "id": "8af29d1d",
   "metadata": {
    "execution": {
     "iopub.execute_input": "2024-10-23T05:19:32.340284Z",
     "iopub.status.busy": "2024-10-23T05:19:32.339917Z",
     "iopub.status.idle": "2024-10-23T05:19:32.366621Z",
     "shell.execute_reply": "2024-10-23T05:19:32.365224Z"
    },
    "papermill": {
     "duration": 0.03784,
     "end_time": "2024-10-23T05:19:32.368732",
     "exception": false,
     "start_time": "2024-10-23T05:19:32.330892",
     "status": "completed"
    },
    "tags": []
   },
   "outputs": [
    {
     "name": "stderr",
     "output_type": "stream",
     "text": [
      "/tmp/ipykernel_17/2271814165.py:2: FutureWarning: A value is trying to be set on a copy of a DataFrame or Series through chained assignment using an inplace method.\n",
      "The behavior will change in pandas 3.0. This inplace method will never work because the intermediate object on which we are setting values always behaves as a copy.\n",
      "\n",
      "For example, when doing 'df[col].method(value, inplace=True)', try using 'df.method({col: value}, inplace=True)' or df[col] = df[col].method(value) instead, to perform the operation inplace on the original object.\n",
      "\n",
      "\n",
      "  nx_data['director'].fillna('Unknown', inplace=True)\n",
      "/tmp/ipykernel_17/2271814165.py:3: FutureWarning: A value is trying to be set on a copy of a DataFrame or Series through chained assignment using an inplace method.\n",
      "The behavior will change in pandas 3.0. This inplace method will never work because the intermediate object on which we are setting values always behaves as a copy.\n",
      "\n",
      "For example, when doing 'df[col].method(value, inplace=True)', try using 'df.method({col: value}, inplace=True)' or df[col] = df[col].method(value) instead, to perform the operation inplace on the original object.\n",
      "\n",
      "\n",
      "  nx_data['cast'].fillna('Unknown', inplace=True)\n",
      "/tmp/ipykernel_17/2271814165.py:4: FutureWarning: A value is trying to be set on a copy of a DataFrame or Series through chained assignment using an inplace method.\n",
      "The behavior will change in pandas 3.0. This inplace method will never work because the intermediate object on which we are setting values always behaves as a copy.\n",
      "\n",
      "For example, when doing 'df[col].method(value, inplace=True)', try using 'df.method({col: value}, inplace=True)' or df[col] = df[col].method(value) instead, to perform the operation inplace on the original object.\n",
      "\n",
      "\n",
      "  nx_data['country'].fillna('Unknown', inplace=True)\n",
      "/tmp/ipykernel_17/2271814165.py:5: FutureWarning: A value is trying to be set on a copy of a DataFrame or Series through chained assignment using an inplace method.\n",
      "The behavior will change in pandas 3.0. This inplace method will never work because the intermediate object on which we are setting values always behaves as a copy.\n",
      "\n",
      "For example, when doing 'df[col].method(value, inplace=True)', try using 'df.method({col: value}, inplace=True)' or df[col] = df[col].method(value) instead, to perform the operation inplace on the original object.\n",
      "\n",
      "\n",
      "  nx_data['date_added'].fillna('Unknown', inplace=True)\n",
      "/tmp/ipykernel_17/2271814165.py:6: FutureWarning: A value is trying to be set on a copy of a DataFrame or Series through chained assignment using an inplace method.\n",
      "The behavior will change in pandas 3.0. This inplace method will never work because the intermediate object on which we are setting values always behaves as a copy.\n",
      "\n",
      "For example, when doing 'df[col].method(value, inplace=True)', try using 'df.method({col: value}, inplace=True)' or df[col] = df[col].method(value) instead, to perform the operation inplace on the original object.\n",
      "\n",
      "\n",
      "  nx_data['rating'].fillna('Unrated', inplace=True)\n"
     ]
    },
    {
     "data": {
      "text/html": [
       "<div>\n",
       "<style scoped>\n",
       "    .dataframe tbody tr th:only-of-type {\n",
       "        vertical-align: middle;\n",
       "    }\n",
       "\n",
       "    .dataframe tbody tr th {\n",
       "        vertical-align: top;\n",
       "    }\n",
       "\n",
       "    .dataframe thead th {\n",
       "        text-align: right;\n",
       "    }\n",
       "</style>\n",
       "<table border=\"1\" class=\"dataframe\">\n",
       "  <thead>\n",
       "    <tr style=\"text-align: right;\">\n",
       "      <th></th>\n",
       "      <th>show_id</th>\n",
       "      <th>type</th>\n",
       "      <th>title</th>\n",
       "      <th>director</th>\n",
       "      <th>cast</th>\n",
       "      <th>country</th>\n",
       "      <th>date_added</th>\n",
       "      <th>release_year</th>\n",
       "      <th>rating</th>\n",
       "      <th>duration</th>\n",
       "      <th>listed_in</th>\n",
       "      <th>description</th>\n",
       "    </tr>\n",
       "  </thead>\n",
       "  <tbody>\n",
       "    <tr>\n",
       "      <th>0</th>\n",
       "      <td>s1</td>\n",
       "      <td>Movie</td>\n",
       "      <td>Dick Johnson Is Dead</td>\n",
       "      <td>Kirsten Johnson</td>\n",
       "      <td>Unknown</td>\n",
       "      <td>United States</td>\n",
       "      <td>September 25, 2021</td>\n",
       "      <td>2020</td>\n",
       "      <td>PG-13</td>\n",
       "      <td>90 min</td>\n",
       "      <td>Documentaries</td>\n",
       "      <td>As her father nears the end of his life, filmm...</td>\n",
       "    </tr>\n",
       "    <tr>\n",
       "      <th>1</th>\n",
       "      <td>s2</td>\n",
       "      <td>TV Show</td>\n",
       "      <td>Blood &amp; Water</td>\n",
       "      <td>Unknown</td>\n",
       "      <td>Ama Qamata, Khosi Ngema, Gail Mabalane, Thaban...</td>\n",
       "      <td>South Africa</td>\n",
       "      <td>September 24, 2021</td>\n",
       "      <td>2021</td>\n",
       "      <td>TV-MA</td>\n",
       "      <td>2 Seasons</td>\n",
       "      <td>International TV Shows, TV Dramas, TV Mysteries</td>\n",
       "      <td>After crossing paths at a party, a Cape Town t...</td>\n",
       "    </tr>\n",
       "    <tr>\n",
       "      <th>2</th>\n",
       "      <td>s3</td>\n",
       "      <td>TV Show</td>\n",
       "      <td>Ganglands</td>\n",
       "      <td>Julien Leclercq</td>\n",
       "      <td>Sami Bouajila, Tracy Gotoas, Samuel Jouy, Nabi...</td>\n",
       "      <td>Unknown</td>\n",
       "      <td>September 24, 2021</td>\n",
       "      <td>2021</td>\n",
       "      <td>TV-MA</td>\n",
       "      <td>1 Season</td>\n",
       "      <td>Crime TV Shows, International TV Shows, TV Act...</td>\n",
       "      <td>To protect his family from a powerful drug lor...</td>\n",
       "    </tr>\n",
       "    <tr>\n",
       "      <th>3</th>\n",
       "      <td>s4</td>\n",
       "      <td>TV Show</td>\n",
       "      <td>Jailbirds New Orleans</td>\n",
       "      <td>Unknown</td>\n",
       "      <td>Unknown</td>\n",
       "      <td>Unknown</td>\n",
       "      <td>September 24, 2021</td>\n",
       "      <td>2021</td>\n",
       "      <td>TV-MA</td>\n",
       "      <td>1 Season</td>\n",
       "      <td>Docuseries, Reality TV</td>\n",
       "      <td>Feuds, flirtations and toilet talk go down amo...</td>\n",
       "    </tr>\n",
       "    <tr>\n",
       "      <th>4</th>\n",
       "      <td>s5</td>\n",
       "      <td>TV Show</td>\n",
       "      <td>Kota Factory</td>\n",
       "      <td>Unknown</td>\n",
       "      <td>Mayur More, Jitendra Kumar, Ranjan Raj, Alam K...</td>\n",
       "      <td>India</td>\n",
       "      <td>September 24, 2021</td>\n",
       "      <td>2021</td>\n",
       "      <td>TV-MA</td>\n",
       "      <td>2 Seasons</td>\n",
       "      <td>International TV Shows, Romantic TV Shows, TV ...</td>\n",
       "      <td>In a city of coaching centers known to train I...</td>\n",
       "    </tr>\n",
       "  </tbody>\n",
       "</table>\n",
       "</div>"
      ],
      "text/plain": [
       "  show_id     type                  title         director  \\\n",
       "0      s1    Movie   Dick Johnson Is Dead  Kirsten Johnson   \n",
       "1      s2  TV Show          Blood & Water          Unknown   \n",
       "2      s3  TV Show              Ganglands  Julien Leclercq   \n",
       "3      s4  TV Show  Jailbirds New Orleans          Unknown   \n",
       "4      s5  TV Show           Kota Factory          Unknown   \n",
       "\n",
       "                                                cast        country  \\\n",
       "0                                            Unknown  United States   \n",
       "1  Ama Qamata, Khosi Ngema, Gail Mabalane, Thaban...   South Africa   \n",
       "2  Sami Bouajila, Tracy Gotoas, Samuel Jouy, Nabi...        Unknown   \n",
       "3                                            Unknown        Unknown   \n",
       "4  Mayur More, Jitendra Kumar, Ranjan Raj, Alam K...          India   \n",
       "\n",
       "           date_added  release_year rating   duration  \\\n",
       "0  September 25, 2021          2020  PG-13     90 min   \n",
       "1  September 24, 2021          2021  TV-MA  2 Seasons   \n",
       "2  September 24, 2021          2021  TV-MA   1 Season   \n",
       "3  September 24, 2021          2021  TV-MA   1 Season   \n",
       "4  September 24, 2021          2021  TV-MA  2 Seasons   \n",
       "\n",
       "                                           listed_in  \\\n",
       "0                                      Documentaries   \n",
       "1    International TV Shows, TV Dramas, TV Mysteries   \n",
       "2  Crime TV Shows, International TV Shows, TV Act...   \n",
       "3                             Docuseries, Reality TV   \n",
       "4  International TV Shows, Romantic TV Shows, TV ...   \n",
       "\n",
       "                                         description  \n",
       "0  As her father nears the end of his life, filmm...  \n",
       "1  After crossing paths at a party, a Cape Town t...  \n",
       "2  To protect his family from a powerful drug lor...  \n",
       "3  Feuds, flirtations and toilet talk go down amo...  \n",
       "4  In a city of coaching centers known to train I...  "
      ]
     },
     "execution_count": 7,
     "metadata": {},
     "output_type": "execute_result"
    }
   ],
   "source": [
    "#Replacing any nan value with something understandable\n",
    "nx_data['director'].fillna('Unknown', inplace=True)\n",
    "nx_data['cast'].fillna('Unknown', inplace=True)\n",
    "nx_data['country'].fillna('Unknown', inplace=True)\n",
    "nx_data['date_added'].fillna('Unknown', inplace=True)\n",
    "nx_data['rating'].fillna('Unrated', inplace=True)\n",
    "nx_data.head()"
   ]
  },
  {
   "cell_type": "code",
   "execution_count": 8,
   "id": "bf74b104",
   "metadata": {
    "execution": {
     "iopub.execute_input": "2024-10-23T05:19:32.386818Z",
     "iopub.status.busy": "2024-10-23T05:19:32.385956Z",
     "iopub.status.idle": "2024-10-23T05:19:32.419565Z",
     "shell.execute_reply": "2024-10-23T05:19:32.418640Z"
    },
    "papermill": {
     "duration": 0.044797,
     "end_time": "2024-10-23T05:19:32.421651",
     "exception": false,
     "start_time": "2024-10-23T05:19:32.376854",
     "status": "completed"
    },
    "tags": []
   },
   "outputs": [
    {
     "data": {
      "text/html": [
       "<div>\n",
       "<style scoped>\n",
       "    .dataframe tbody tr th:only-of-type {\n",
       "        vertical-align: middle;\n",
       "    }\n",
       "\n",
       "    .dataframe tbody tr th {\n",
       "        vertical-align: top;\n",
       "    }\n",
       "\n",
       "    .dataframe thead th {\n",
       "        text-align: right;\n",
       "    }\n",
       "</style>\n",
       "<table border=\"1\" class=\"dataframe\">\n",
       "  <thead>\n",
       "    <tr style=\"text-align: right;\">\n",
       "      <th></th>\n",
       "      <th>show_id</th>\n",
       "      <th>type</th>\n",
       "      <th>title</th>\n",
       "      <th>director</th>\n",
       "      <th>cast</th>\n",
       "      <th>country</th>\n",
       "      <th>date_added</th>\n",
       "      <th>release_year</th>\n",
       "      <th>rating</th>\n",
       "      <th>duration</th>\n",
       "      <th>listed_in</th>\n",
       "      <th>description</th>\n",
       "    </tr>\n",
       "  </thead>\n",
       "  <tbody>\n",
       "    <tr>\n",
       "      <th>0</th>\n",
       "      <td>s1</td>\n",
       "      <td>Movie</td>\n",
       "      <td>Dick Johnson Is Dead</td>\n",
       "      <td>Kirsten Johnson</td>\n",
       "      <td>Unknown</td>\n",
       "      <td>United States</td>\n",
       "      <td>2021-09-25</td>\n",
       "      <td>2020</td>\n",
       "      <td>PG-13</td>\n",
       "      <td>90 min</td>\n",
       "      <td>Documentaries</td>\n",
       "      <td>As her father nears the end of his life, filmm...</td>\n",
       "    </tr>\n",
       "    <tr>\n",
       "      <th>1</th>\n",
       "      <td>s2</td>\n",
       "      <td>TV Show</td>\n",
       "      <td>Blood &amp; Water</td>\n",
       "      <td>Unknown</td>\n",
       "      <td>Ama Qamata, Khosi Ngema, Gail Mabalane, Thaban...</td>\n",
       "      <td>South Africa</td>\n",
       "      <td>2021-09-24</td>\n",
       "      <td>2021</td>\n",
       "      <td>TV-MA</td>\n",
       "      <td>2 Seasons</td>\n",
       "      <td>International TV Shows, TV Dramas, TV Mysteries</td>\n",
       "      <td>After crossing paths at a party, a Cape Town t...</td>\n",
       "    </tr>\n",
       "    <tr>\n",
       "      <th>2</th>\n",
       "      <td>s3</td>\n",
       "      <td>TV Show</td>\n",
       "      <td>Ganglands</td>\n",
       "      <td>Julien Leclercq</td>\n",
       "      <td>Sami Bouajila, Tracy Gotoas, Samuel Jouy, Nabi...</td>\n",
       "      <td>Unknown</td>\n",
       "      <td>2021-09-24</td>\n",
       "      <td>2021</td>\n",
       "      <td>TV-MA</td>\n",
       "      <td>1 Season</td>\n",
       "      <td>Crime TV Shows, International TV Shows, TV Act...</td>\n",
       "      <td>To protect his family from a powerful drug lor...</td>\n",
       "    </tr>\n",
       "    <tr>\n",
       "      <th>3</th>\n",
       "      <td>s4</td>\n",
       "      <td>TV Show</td>\n",
       "      <td>Jailbirds New Orleans</td>\n",
       "      <td>Unknown</td>\n",
       "      <td>Unknown</td>\n",
       "      <td>Unknown</td>\n",
       "      <td>2021-09-24</td>\n",
       "      <td>2021</td>\n",
       "      <td>TV-MA</td>\n",
       "      <td>1 Season</td>\n",
       "      <td>Docuseries, Reality TV</td>\n",
       "      <td>Feuds, flirtations and toilet talk go down amo...</td>\n",
       "    </tr>\n",
       "    <tr>\n",
       "      <th>4</th>\n",
       "      <td>s5</td>\n",
       "      <td>TV Show</td>\n",
       "      <td>Kota Factory</td>\n",
       "      <td>Unknown</td>\n",
       "      <td>Mayur More, Jitendra Kumar, Ranjan Raj, Alam K...</td>\n",
       "      <td>India</td>\n",
       "      <td>2021-09-24</td>\n",
       "      <td>2021</td>\n",
       "      <td>TV-MA</td>\n",
       "      <td>2 Seasons</td>\n",
       "      <td>International TV Shows, Romantic TV Shows, TV ...</td>\n",
       "      <td>In a city of coaching centers known to train I...</td>\n",
       "    </tr>\n",
       "  </tbody>\n",
       "</table>\n",
       "</div>"
      ],
      "text/plain": [
       "  show_id     type                  title         director  \\\n",
       "0      s1    Movie   Dick Johnson Is Dead  Kirsten Johnson   \n",
       "1      s2  TV Show          Blood & Water          Unknown   \n",
       "2      s3  TV Show              Ganglands  Julien Leclercq   \n",
       "3      s4  TV Show  Jailbirds New Orleans          Unknown   \n",
       "4      s5  TV Show           Kota Factory          Unknown   \n",
       "\n",
       "                                                cast        country  \\\n",
       "0                                            Unknown  United States   \n",
       "1  Ama Qamata, Khosi Ngema, Gail Mabalane, Thaban...   South Africa   \n",
       "2  Sami Bouajila, Tracy Gotoas, Samuel Jouy, Nabi...        Unknown   \n",
       "3                                            Unknown        Unknown   \n",
       "4  Mayur More, Jitendra Kumar, Ranjan Raj, Alam K...          India   \n",
       "\n",
       "  date_added  release_year rating   duration  \\\n",
       "0 2021-09-25          2020  PG-13     90 min   \n",
       "1 2021-09-24          2021  TV-MA  2 Seasons   \n",
       "2 2021-09-24          2021  TV-MA   1 Season   \n",
       "3 2021-09-24          2021  TV-MA   1 Season   \n",
       "4 2021-09-24          2021  TV-MA  2 Seasons   \n",
       "\n",
       "                                           listed_in  \\\n",
       "0                                      Documentaries   \n",
       "1    International TV Shows, TV Dramas, TV Mysteries   \n",
       "2  Crime TV Shows, International TV Shows, TV Act...   \n",
       "3                             Docuseries, Reality TV   \n",
       "4  International TV Shows, Romantic TV Shows, TV ...   \n",
       "\n",
       "                                         description  \n",
       "0  As her father nears the end of his life, filmm...  \n",
       "1  After crossing paths at a party, a Cape Town t...  \n",
       "2  To protect his family from a powerful drug lor...  \n",
       "3  Feuds, flirtations and toilet talk go down amo...  \n",
       "4  In a city of coaching centers known to train I...  "
      ]
     },
     "execution_count": 8,
     "metadata": {},
     "output_type": "execute_result"
    }
   ],
   "source": [
    "#Convert datetime datatype to datetime format\n",
    "nx_data['date_added'] = pd.to_datetime(nx_data['date_added'],errors='coerce')\n",
    "nx_data.head()"
   ]
  },
  {
   "cell_type": "code",
   "execution_count": 9,
   "id": "ec421efe",
   "metadata": {
    "execution": {
     "iopub.execute_input": "2024-10-23T05:19:32.439584Z",
     "iopub.status.busy": "2024-10-23T05:19:32.439266Z",
     "iopub.status.idle": "2024-10-23T05:19:32.459544Z",
     "shell.execute_reply": "2024-10-23T05:19:32.458348Z"
    },
    "papermill": {
     "duration": 0.031944,
     "end_time": "2024-10-23T05:19:32.461901",
     "exception": false,
     "start_time": "2024-10-23T05:19:32.429957",
     "status": "completed"
    },
    "tags": []
   },
   "outputs": [
    {
     "name": "stdout",
     "output_type": "stream",
     "text": [
      "<class 'pandas.core.frame.DataFrame'>\n",
      "RangeIndex: 8807 entries, 0 to 8806\n",
      "Data columns (total 12 columns):\n",
      " #   Column        Non-Null Count  Dtype         \n",
      "---  ------        --------------  -----         \n",
      " 0   show_id       8807 non-null   object        \n",
      " 1   type          8807 non-null   object        \n",
      " 2   title         8807 non-null   object        \n",
      " 3   director      8807 non-null   object        \n",
      " 4   cast          8807 non-null   object        \n",
      " 5   country       8807 non-null   object        \n",
      " 6   date_added    8709 non-null   datetime64[ns]\n",
      " 7   release_year  8807 non-null   int64         \n",
      " 8   rating        8807 non-null   object        \n",
      " 9   duration      8804 non-null   object        \n",
      " 10  listed_in     8807 non-null   object        \n",
      " 11  description   8807 non-null   object        \n",
      "dtypes: datetime64[ns](1), int64(1), object(10)\n",
      "memory usage: 825.8+ KB\n"
     ]
    }
   ],
   "source": [
    "nx_data.info()"
   ]
  },
  {
   "cell_type": "markdown",
   "id": "506893d6",
   "metadata": {
    "papermill": {
     "duration": 0.007906,
     "end_time": "2024-10-23T05:19:32.478345",
     "exception": false,
     "start_time": "2024-10-23T05:19:32.470439",
     "status": "completed"
    },
    "tags": []
   },
   "source": [
    "# let's do Some awesome Visualization :) # "
   ]
  },
  {
   "cell_type": "code",
   "execution_count": 10,
   "id": "0d98a0ed",
   "metadata": {
    "execution": {
     "iopub.execute_input": "2024-10-23T05:19:32.497255Z",
     "iopub.status.busy": "2024-10-23T05:19:32.496353Z",
     "iopub.status.idle": "2024-10-23T05:19:32.505995Z",
     "shell.execute_reply": "2024-10-23T05:19:32.505040Z"
    },
    "papermill": {
     "duration": 0.022006,
     "end_time": "2024-10-23T05:19:32.508399",
     "exception": false,
     "start_time": "2024-10-23T05:19:32.486393",
     "status": "completed"
    },
    "tags": []
   },
   "outputs": [
    {
     "data": {
      "text/plain": [
       "type\n",
       "Movie      6131\n",
       "TV Show    2676\n",
       "Name: count, dtype: int64"
      ]
     },
     "execution_count": 10,
     "metadata": {},
     "output_type": "execute_result"
    }
   ],
   "source": [
    "nx_type = nx_data['type'].value_counts()\n",
    "nx_type"
   ]
  },
  {
   "cell_type": "code",
   "execution_count": 11,
   "id": "c73475fa",
   "metadata": {
    "execution": {
     "iopub.execute_input": "2024-10-23T05:19:32.528188Z",
     "iopub.status.busy": "2024-10-23T05:19:32.527795Z",
     "iopub.status.idle": "2024-10-23T05:19:32.534508Z",
     "shell.execute_reply": "2024-10-23T05:19:32.533491Z"
    },
    "papermill": {
     "duration": 0.019288,
     "end_time": "2024-10-23T05:19:32.536750",
     "exception": false,
     "start_time": "2024-10-23T05:19:32.517462",
     "status": "completed"
    },
    "tags": []
   },
   "outputs": [],
   "source": [
    "sns.set(style='darkgrid')\n",
    "nx_data['Show_Type'] =nx_data['type']"
   ]
  },
  {
   "cell_type": "code",
   "execution_count": 12,
   "id": "49542b11",
   "metadata": {
    "execution": {
     "iopub.execute_input": "2024-10-23T05:19:32.555783Z",
     "iopub.status.busy": "2024-10-23T05:19:32.555402Z",
     "iopub.status.idle": "2024-10-23T05:19:32.956673Z",
     "shell.execute_reply": "2024-10-23T05:19:32.955573Z"
    },
    "papermill": {
     "duration": 0.413749,
     "end_time": "2024-10-23T05:19:32.959269",
     "exception": false,
     "start_time": "2024-10-23T05:19:32.545520",
     "status": "completed"
    },
    "tags": []
   },
   "outputs": [
    {
     "data": {
      "text/plain": [
       "Text(0.5, 1.0, 'Movies vs Tv shows')"
      ]
     },
     "execution_count": 12,
     "metadata": {},
     "output_type": "execute_result"
    },
    {
     "data": {
      "image/png": "[encoded data removed]",
      "text/plain": [
       "<Figure size 640x480 with 1 Axes>"
      ]
     },
     "metadata": {},
     "output_type": "display_data"
    }
   ],
   "source": [
    "sns.countplot(x ='Show_Type',hue='Show_Type',palette='Set2',data=nx_data)\n",
    "plt.title('Movies vs Tv shows', fontsize=14)"
   ]
  },
  {
   "cell_type": "code",
   "execution_count": 13,
   "id": "102543c3",
   "metadata": {
    "execution": {
     "iopub.execute_input": "2024-10-23T05:19:32.980132Z",
     "iopub.status.busy": "2024-10-23T05:19:32.979449Z",
     "iopub.status.idle": "2024-10-23T05:19:33.007070Z",
     "shell.execute_reply": "2024-10-23T05:19:33.005980Z"
    },
    "papermill": {
     "duration": 0.04054,
     "end_time": "2024-10-23T05:19:33.009456",
     "exception": false,
     "start_time": "2024-10-23T05:19:32.968916",
     "status": "completed"
    },
    "tags": []
   },
   "outputs": [
    {
     "data": {
      "text/plain": [
       "listed_in\n",
       "International Movies        2752\n",
       "Dramas                      2427\n",
       "Comedies                    1674\n",
       "International TV Shows      1351\n",
       "Documentaries                869\n",
       "Action & Adventure           859\n",
       "TV Dramas                    763\n",
       "Independent Movies           756\n",
       "Children & Family Movies     641\n",
       "Romantic Movies              616\n",
       "Name: count, dtype: int64"
      ]
     },
     "execution_count": 13,
     "metadata": {},
     "output_type": "execute_result"
    }
   ],
   "source": [
    "Top_genres =nx_data['listed_in'].str.split(', ').explode().value_counts().head(10)\n",
    "Top_genres"
   ]
  },
  {
   "cell_type": "code",
   "execution_count": 14,
   "id": "5ef5301b",
   "metadata": {
    "execution": {
     "iopub.execute_input": "2024-10-23T05:19:33.030399Z",
     "iopub.status.busy": "2024-10-23T05:19:33.029985Z",
     "iopub.status.idle": "2024-10-23T05:19:33.418581Z",
     "shell.execute_reply": "2024-10-23T05:19:33.417444Z"
    },
    "papermill": {
     "duration": 0.402006,
     "end_time": "2024-10-23T05:19:33.421035",
     "exception": false,
     "start_time": "2024-10-23T05:19:33.019029",
     "status": "completed"
    },
    "tags": []
   },
   "outputs": [
    {
     "data": {
      "text/plain": [
       "Text(0.5, 1.0, 'Top 10 Genres on Netflix')"
      ]
     },
     "execution_count": 14,
     "metadata": {},
     "output_type": "execute_result"
    },
    {
     "data": {
      "image/png": "[encoded data removed]",
      "text/plain": [
       "<Figure size 640x480 with 1 Axes>"
      ]
     },
     "metadata": {},
     "output_type": "display_data"
    }
   ],
   "source": [
    "sns.barplot(x=Top_genres.values, y=Top_genres.index, palette=\"viridis\")\n",
    "plt.title('Top 10 Genres on Netflix', fontsize=14)"
   ]
  },
  {
   "cell_type": "code",
   "execution_count": 15,
   "id": "22130ed5",
   "metadata": {
    "execution": {
     "iopub.execute_input": "2024-10-23T05:19:33.444110Z",
     "iopub.status.busy": "2024-10-23T05:19:33.443725Z",
     "iopub.status.idle": "2024-10-23T05:19:33.502915Z",
     "shell.execute_reply": "2024-10-23T05:19:33.501863Z"
    },
    "papermill": {
     "duration": 0.073478,
     "end_time": "2024-10-23T05:19:33.505459",
     "exception": false,
     "start_time": "2024-10-23T05:19:33.431981",
     "status": "completed"
    },
    "tags": []
   },
   "outputs": [
    {
     "data": {
      "text/plain": [
       "cast\n",
       "Unknown             825\n",
       "Anupam Kher          43\n",
       "Shah Rukh Khan       35\n",
       "Julie Tejwani        33\n",
       "Naseeruddin Shah     32\n",
       "Takahiro Sakurai     32\n",
       "Rupa Bhimani         31\n",
       "Akshay Kumar         30\n",
       "Om Puri              30\n",
       "Yuki Kaji            29\n",
       "Name: count, dtype: int64"
      ]
     },
     "execution_count": 15,
     "metadata": {},
     "output_type": "execute_result"
    }
   ],
   "source": [
    "Top_Artists= nx_data['cast'].str.split(', ').explode().value_counts().head(10)\n",
    "Top_Artists"
   ]
  },
  {
   "cell_type": "code",
   "execution_count": 16,
   "id": "b2d150a1",
   "metadata": {
    "execution": {
     "iopub.execute_input": "2024-10-23T05:19:33.528019Z",
     "iopub.status.busy": "2024-10-23T05:19:33.527133Z",
     "iopub.status.idle": "2024-10-23T05:19:34.009677Z",
     "shell.execute_reply": "2024-10-23T05:19:34.008639Z"
    },
    "papermill": {
     "duration": 0.496308,
     "end_time": "2024-10-23T05:19:34.012206",
     "exception": false,
     "start_time": "2024-10-23T05:19:33.515898",
     "status": "completed"
    },
    "tags": []
   },
   "outputs": [
    {
     "data": {
      "text/plain": [
       "Text(0.5, 1.0, 'Top 10 Artists on Netflix')"
      ]
     },
     "execution_count": 16,
     "metadata": {},
     "output_type": "execute_result"
    },
    {
     "data": {
      "image/png": "[encoded data removed]",
      "text/plain": [
       "<Figure size 640x480 with 1 Axes>"
      ]
     },
     "metadata": {},
     "output_type": "display_data"
    }
   ],
   "source": [
    "sns.barplot(x=Top_Artists.values, y=Top_Artists.index, palette=\"inferno\")\n",
    "plt.title('Top 10 Artists on Netflix', fontsize=14)"
   ]
  },
  {
   "cell_type": "markdown",
   "id": "995d78dc",
   "metadata": {
    "papermill": {
     "duration": 0.01113,
     "end_time": "2024-10-23T05:19:34.034914",
     "exception": false,
     "start_time": "2024-10-23T05:19:34.023784",
     "status": "completed"
    },
    "tags": []
   },
   "source": [
    "Iam as same as you don't know anyone of those hhhhh"
   ]
  },
  {
   "cell_type": "code",
   "execution_count": 17,
   "id": "4322a7a3",
   "metadata": {
    "execution": {
     "iopub.execute_input": "2024-10-23T05:19:34.059317Z",
     "iopub.status.busy": "2024-10-23T05:19:34.058407Z",
     "iopub.status.idle": "2024-10-23T05:19:34.537067Z",
     "shell.execute_reply": "2024-10-23T05:19:34.535957Z"
    },
    "papermill": {
     "duration": 0.493449,
     "end_time": "2024-10-23T05:19:34.539481",
     "exception": false,
     "start_time": "2024-10-23T05:19:34.046032",
     "status": "completed"
    },
    "tags": []
   },
   "outputs": [
    {
     "name": "stderr",
     "output_type": "stream",
     "text": [
      "/opt/conda/lib/python3.10/site-packages/seaborn/_oldcore.py:1119: FutureWarning: use_inf_as_na option is deprecated and will be removed in a future version. Convert inf values to NaN before operating instead.\n",
      "  with pd.option_context('mode.use_inf_as_na', True):\n"
     ]
    },
    {
     "data": {
      "text/plain": [
       "Text(0.5, 1.0, 'Distribution of Release Years on Netflix')"
      ]
     },
     "execution_count": 17,
     "metadata": {},
     "output_type": "execute_result"
    },
    {
     "data": {
      "image/png": "[encoded data removed]",
      "text/plain": [
       "<Figure size 640x480 with 1 Axes>"
      ]
     },
     "metadata": {},
     "output_type": "display_data"
    }
   ],
   "source": [
    "sns.histplot(nx_data['release_year'],bins=20, kde=True,fill=True, color=\"coral\")\n",
    "\n",
    "plt.title('Distribution of Release Years on Netflix', fontsize=14)"
   ]
  },
  {
   "cell_type": "code",
   "execution_count": null,
   "id": "95aa3399",
   "metadata": {
    "papermill": {
     "duration": 0.012834,
     "end_time": "2024-10-23T05:19:34.564919",
     "exception": false,
     "start_time": "2024-10-23T05:19:34.552085",
     "status": "completed"
    },
    "tags": []
   },
   "outputs": [],
   "source": []
  }
 ],
 "metadata": {
  "kaggle": {
   "accelerator": "none",
   "dataSources": [
    {
     "datasetId": 434238,
     "sourceId": 2654038,
     "sourceType": "datasetVersion"
    }
   ],
   "dockerImageVersionId": 30786,
   "isGpuEnabled": false,
   "isInternetEnabled": false,
   "language": "python",
   "sourceType": "notebook"
  },
  "kernelspec": {
   "display_name": "Python 3",
   "language": "python",
   "name": "python3"
  },
  "language_info": {
   "codemirror_mode": {
    "name": "ipython",
    "version": 3
   },
   "file_extension": ".py",
   "mimetype": "text/x-python",
   "name": "python",
   "nbconvert_exporter": "python",
   "pygments_lexer": "ipython3",
   "version": "3.10.14"
  },
  "papermill": {
   "default_parameters": {},
   "duration": 8.412814,
   "end_time": "2024-10-23T05:19:35.097562",
   "environment_variables": {},
   "exception": null,
   "input_path": "__notebook__.ipynb",
   "output_path": "__notebook__.ipynb",
   "parameters": {},
   "start_time": "2024-10-23T05:19:26.684748",
   "version": "2.6.0"
  }
 },
 "nbformat": 4,
 "nbformat_minor": 5
}
